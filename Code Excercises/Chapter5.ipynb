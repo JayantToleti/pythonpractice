{
 "cells": [
  {
   "cell_type": "markdown",
   "metadata": {},
   "source": [
    "## Chapter 5 \n",
    "### Array-Based Sequences"
   ]
  },
  {
   "cell_type": "markdown",
   "metadata": {},
   "source": [
    "1)  Write a program that can perform the Caesar cipher for English messages\n",
    "    that include both upper- and lowercase characters."
   ]
  },
  {
   "cell_type": "code",
   "execution_count": null,
   "metadata": {},
   "outputs": [],
   "source": [
    "#A Caesar cipher is a simple method of encoding messages. Caesar ciphers use a substitution method where letters \n",
    "#in the alphabet are shifted by some fixed number of spaces to yield an encoding alphabet."
   ]
  },
  {
   "cell_type": "code",
   "execution_count": 1,
   "metadata": {},
   "outputs": [
    {
     "name": "stdout",
     "output_type": "stream",
     "text": [
      "Original text is:  Python is fun\n",
      "Ceaser Coded Text is:  Sbwkrqqlvqixq\n"
     ]
    }
   ],
   "source": [
    "#Let us try to cipher the string \"Python is fun\"\n",
    "\n",
    "l_shift = 3\n",
    "#this means our alphabet will shift by 3, so, A --> D B --> E and so on...\n",
    "\n",
    "def encrypt(text,l_shift):\n",
    "    result = \"\"\n",
    "   # transverse the plain text\n",
    "    for i in range(len(text)):\n",
    "        char = text[i]\n",
    "      # Encrypt uppercase characters in plain text\n",
    "        if (char.isupper()):\n",
    "         result += chr((ord(char) + l_shift-65) % 26 + 65)\n",
    "      # Encrypt lowercase characters in plain text\n",
    "        else:\n",
    "         result += chr((ord(char) + l_shift - 97) % 26 + 97)\n",
    "    return result\n",
    "\n",
    "text = \"Python is fun\"\n",
    "codatext = encrypt(text,l_shift)\n",
    "print(\"Original text is: \", text)\n",
    "print(\"Ceaser Coded Text is: \", codatext )"
   ]
  },
  {
   "cell_type": "markdown",
   "metadata": {},
   "source": [
    "2) Write a Python function that takes two three-dimensional numeric data\n",
    "sets and adds them componentwise."
   ]
  },
  {
   "cell_type": "code",
   "execution_count": 4,
   "metadata": {},
   "outputs": [
    {
     "name": "stdout",
     "output_type": "stream",
     "text": [
      "Dataset 1:\n",
      "[[[ 1  2  3]\n",
      "  [ 4  5  6]\n",
      "  [ 7  8  9]]\n",
      "\n",
      " [[10 11 12]\n",
      "  [13 14 15]\n",
      "  [16 17 18]]\n",
      "\n",
      " [[19 20 21]\n",
      "  [22 23 24]\n",
      "  [25 26 27]]]\n",
      "\n",
      "Dataset 2:\n",
      "[[[ 2  3  4]\n",
      "  [ 5  6  7]\n",
      "  [ 8  9 10]]\n",
      "\n",
      " [[11 12 13]\n",
      "  [14 15 16]\n",
      "  [17 18 19]]\n",
      "\n",
      " [[20 21 22]\n",
      "  [23 24 25]\n",
      "  [26 27 28]]]\n",
      "\n",
      "Componentwise Sum:\n",
      "[[[ 3  5  7]\n",
      "  [ 9 11 13]\n",
      "  [15 17 19]]\n",
      "\n",
      " [[21 23 25]\n",
      "  [27 29 31]\n",
      "  [33 35 37]]\n",
      "\n",
      " [[39 41 43]\n",
      "  [45 47 49]\n",
      "  [51 53 55]]]\n"
     ]
    }
   ],
   "source": [
    "import numpy as np\n",
    "\n",
    "def add_3d_datasets(dataset1, dataset2):\n",
    "    \"\"\"\n",
    "    Adds two three-dimensional numeric datasets componentwise.\n",
    "\n",
    "    Parameters:\n",
    "    - dataset1: numpy array, shape (m, n, p)\n",
    "    - dataset2: numpy array, shape (m, n, p)\n",
    "\n",
    "    Returns:\n",
    "    - result: numpy array, shape (m, n, p), componentwise sum of the input datasets\n",
    "    \"\"\"\n",
    "    # Check if the shapes of the datasets are the same\n",
    "    if dataset1.shape != dataset2.shape:\n",
    "        raise ValueError(\"Input datasets must have the same shape.\")\n",
    "\n",
    "    # Perform componentwise addition\n",
    "    result = dataset1 + dataset2\n",
    "\n",
    "    return result\n",
    "import numpy as np\n",
    "\n",
    "# Creating two example three-dimensional datasets\n",
    "dataset1 = np.array([[[1, 2, 3], [4, 5, 6], [7, 8, 9]],\n",
    "                     [[10, 11, 12], [13, 14, 15], [16, 17, 18]],\n",
    "                     [[19, 20, 21], [22, 23, 24], [25, 26, 27]]])\n",
    "\n",
    "dataset2 = np.array([[[2, 3, 4], [5, 6, 7], [8, 9, 10]],\n",
    "                     [[11, 12, 13], [14, 15, 16], [17, 18, 19]],\n",
    "                     [[20, 21, 22], [23, 24, 25], [26, 27, 28]]])\n",
    "\n",
    "# Call the function to add the datasets\n",
    "result = add_3d_datasets(dataset1, dataset2)\n",
    "\n",
    "print(\"Dataset 1:\")\n",
    "print(dataset1)\n",
    "\n",
    "print(\"\\nDataset 2:\")\n",
    "print(dataset2)\n",
    "\n",
    "print(\"\\nComponentwise Sum:\")\n",
    "print(result)\n",
    "\n"
   ]
  }
 ],
 "metadata": {
  "kernelspec": {
   "display_name": "Python 3",
   "language": "python",
   "name": "python3"
  },
  "language_info": {
   "codemirror_mode": {
    "name": "ipython",
    "version": 3
   },
   "file_extension": ".py",
   "mimetype": "text/x-python",
   "name": "python",
   "nbconvert_exporter": "python",
   "pygments_lexer": "ipython3",
   "version": "3.11.4"
  }
 },
 "nbformat": 4,
 "nbformat_minor": 2
}
